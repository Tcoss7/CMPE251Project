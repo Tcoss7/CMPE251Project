{
 "cells": [
  {
   "cell_type": "markdown",
   "metadata": {},
   "source": [
    "# Basic Predictors"
   ]
  },
  {
   "cell_type": "code",
   "execution_count": 44,
   "metadata": {},
   "outputs": [],
   "source": [
    "import numpy as np\n",
    "import pandas as pd\n",
    "import matplotlib.pyplot as plt\n",
    "\n",
    "import sklearn as sk\n",
    "from sklearn.ensemble import BaggingClassifier, GradientBoostingClassifier, RandomForestClassifier, AdaBoostClassifier\n",
    "from sklearn.naive_bayes import GaussianNB\n",
    "from sklearn.neural_network import MLPClassifier\n",
    "from sklearn.tree import DecisionTreeClassifier\n",
    "from sklearn.decomposition import TruncatedSVD\n",
    "from sklearn import metrics as m\n",
    "from sklearn.model_selection import cross_val_score, ShuffleSplit, train_test_split\n",
    "from sklearn.neighbors import KNeighborsClassifier\n",
    "from sklearn.svm import SVC"
   ]
  },
  {
   "cell_type": "code",
   "execution_count": 2,
   "metadata": {},
   "outputs": [],
   "source": [
    "refColsDf = pd.read_csv(r'FinalSheets/dfReferenceCols.csv')\n",
    "fullWordsDf = pd.read_csv(r'FinalSheets/wordsFullDfFinal.csv')\n",
    "wordsNSDf = pd.read_csv(r'FinalSheets/wordsNoStopDfFinal.csv')\n",
    "fullWordsHCDF = pd.read_csv(r'FinalSheets/wordsHighCorrDfFinal.csv')\n",
    "stagsDf = pd.read_csv(r'FinalSheets/sTagRatesDfFinal.csv')\n",
    "decepDf = pd.read_csv(r'FinalSheets/normalizedDecepCountDfFinal.csv')\n",
    "decepHCDf = pd.read_csv(r'FinalSheets/normalizedDecepCountHighCorrDfFinal.csv')\n",
    "combinedHCDf = pd.read_csv(r'FinalSheets/combinedNormalizedHighCorrDfFinal.csv')\n",
    "winLossDf = pd.read_csv(r'FinalSheets/winLossDfFinal.csv')\n",
    "\n",
    "decepLowCorrDf = pd.read_csv(r'FinalSheets/normalizedDecepCountLowCorrDfFinal.csv')\n",
    "wordsLessCommon = pd.read_csv(r'FinalSheets/wordsInMT4SpeechesFinal.csv')\n",
    "lowCorrWords = pd.read_csv(r'FinalSheets/wordsLowCorrDfFinal.csv')\n",
    "completeCombinedDf = fullWordsDf.join(decepDf)\n",
    "\n",
    "pcaFW = pd.read_csv(r'FinalSheets/pcaFW.csv', header=None)\n",
    "pcaNS = pd.read_csv(r'FinalSheets/pcaNS.csv', header=None)\n",
    "pcaST = pd.read_csv(r'FinalSheets/pcaST.csv', header=None)\n",
    "pcaD = pd.read_csv(r'FinalSheets/pcaD.csv', header=None)\n",
    "pcaCHC = pd.read_csv(r'FinalSheets/pcaCHC.csv', header=None)\n",
    "pcaWLC = pd.read_csv(r'FinalSheets/pcaWLC.csv', header=None)\n",
    "pcaCC = pd.read_csv(r'FinalSheets/pcaCC.csv', header=None)\n",
    "\n",
    "lda1FW = pd.read_csv(r'FinalSheets/lda1FW.csv', header=None)\n",
    "lda1NS = pd.read_csv(r'FinalSheets/lda1NS.csv', header=None)\n",
    "lda1ST = pd.read_csv(r'FinalSheets/lda1ST.csv', header=None)\n",
    "lda1D = pd.read_csv(r'FinalSheets/lda1D.csv', header=None)\n",
    "lda1CHC = pd.read_csv(r'FinalSheets/lda1CHC.csv', header=None)\n",
    "lda1WLC = pd.read_csv(r'FinalSheets/lda1WLC.csv', header=None)\n",
    "lda1CC = pd.read_csv(r'FinalSheets/lda1CC.csv', header=None)\n",
    "\n",
    "lda2FW = pd.read_csv(r'FinalSheets/lda2FW.csv', header=None)\n",
    "lda2CHC = pd.read_csv(r'FinalSheets/lda2CHC.csv', header=None)\n",
    "\n",
    "svd5FW = pd.read_csv(r'FinalSheets/svd5FW.csv', header=None)\n",
    "svd5NS = pd.read_csv(r'FinalSheets/svd5NS.csv', header=None)\n",
    "svd5ST = pd.read_csv(r'FinalSheets/svd5ST.csv', header=None)\n",
    "svd5D = pd.read_csv(r'FinalSheets/lda1D.csv', header=None)\n",
    "svd5CHC = pd.read_csv(r'FinalSheets/svd5CHC.csv', header=None)\n",
    "svd5WLC = pd.read_csv(r'FinalSheets/svd5WLC.csv', header=None)\n",
    "svd5CC = pd.read_csv(r'FinalSheets/svd5CC.csv', header=None)\n"
   ]
  },
  {
   "cell_type": "code",
   "execution_count": 3,
   "metadata": {},
   "outputs": [],
   "source": [
    "# refColsDf.head()\n",
    "# fullWordsDf.head()\n",
    "# wordsNSDf.head()\n",
    "# fullWordsHCDF.head()\n",
    "# stagsDf.head()\n",
    "# decepDf.head()\n",
    "# decepHCDf.head()\n",
    "# combinedHCDf.head()\n",
    "# winLossDf.head()\n",
    "\n",
    "fullWordsNorm = ((fullWordsDf-fullWordsDf.min())/(fullWordsDf.max()-fullWordsDf.min()))\n",
    "winLossVals = winLossDf.values.ravel()"
   ]
  },
  {
   "cell_type": "code",
   "execution_count": 4,
   "metadata": {},
   "outputs": [],
   "source": [
    "listOfDf1 = [fullWordsDf, wordsNSDf, stagsDf, decepDf, combinedHCDf,  wordsLessCommon, completeCombinedDf, lda2FW, lda2CHC]\n",
    "listOfNames1 = [\"Full Words\", \"No Stop Words\", \"Stan Tags\", \"Deception\", \"Combined\", \"Words in >5 Speeches\", \"Complete Combined\", \"LDA2 FW\", \"LDA2 CHC\"]\n",
    "\n",
    "listOfDfPCA = [pcaFW, pcaNS, pcaST, pcaD, pcaCHC, pcaWLC, pcaCC]\n",
    "listOfNamesPCA = [\"PCA Full Words\", \"PCA No Stop Words\", \"PCA Stan Tags\", \"PCA Deception\", \"PCA Combined\", \"PCA Words in >5 Speeches\", \"PCA Complete Combined\"]\n",
    "\n",
    "listOfDfLDA = [lda1FW, lda1NS, lda1ST, lda1D, lda1CHC, lda1WLC, lda1CC]\n",
    "listOfNamesLDA = [\"lda1 Full Words\", \"lda1 No Stop Words\", \"lda1 Stan Tags\", \"lda1 Deception\", \"lda1 Combined\", \"lda1 Words in >5 Speeches\", \"lda1 Complete Combined\"]\n",
    "\n",
    "listofDfSVD = [svd5FW,svd5NS,svd5ST,svd5D,svd5CHC,svd5WLC,svd5CC]\n",
    "listOfNamesSVD = [\"svd5 Full Words\", \"svd5 No Stop Words\", \"svd5 Stan Tags\", \"svd5 Deception\", \"svd5 Combined\", \"svd5 Words in >5 Speeches\", \"svd5 Complete Combined\"]\n",
    "\n",
    "\n",
    "listOfDfTot = listOfDf1 + listOfDfLDA + listOfDfPCA + listofDfSVD\n",
    "listOfNamesTot = listOfNames1 + listOfNamesLDA + listOfNamesPCA + listOfNamesSVD\n",
    "\n",
    "listOfDf = listOfDfTot\n",
    "listOfNames = listOfNamesTot\n",
    "\n",
    "numDataSet = len(listOfNames)\n",
    "randState=7"
   ]
  },
  {
   "cell_type": "code",
   "execution_count": 5,
   "metadata": {},
   "outputs": [
    {
     "data": {
      "text/plain": [
       "(431, 299)"
      ]
     },
     "execution_count": 5,
     "metadata": {},
     "output_type": "execute_result"
    }
   ],
   "source": [
    "pcaFW.shape"
   ]
  },
  {
   "cell_type": "markdown",
   "metadata": {},
   "source": [
    "# Train/Test Splitting"
   ]
  },
  {
   "cell_type": "code",
   "execution_count": 6,
   "metadata": {},
   "outputs": [],
   "source": [
    "totalAcc = pd.DataFrame(columns=listOfNames)\n",
    "# totalAcc"
   ]
  },
  {
   "cell_type": "code",
   "execution_count": 7,
   "metadata": {},
   "outputs": [],
   "source": [
    "def accAccrossDS(model, name):\n",
    "    accSer = pd.Series(np.zeros(numDataSet))\n",
    "    accSer = accSer.reindex(listOfNames)\n",
    "    accSer = accSer.rename(name)\n",
    "    for df, col in zip(listOfDf, listOfNames):\n",
    "        scores = cross_val_score(model, df, winLossVals, cv=cvf)\n",
    "        accSer[col] = np.mean(scores)\n",
    "    return accSer\n",
    "\n",
    "cvf = ShuffleSplit(n_splits=5, test_size=0.3, random_state=0)"
   ]
  },
  {
   "cell_type": "markdown",
   "metadata": {},
   "source": [
    "# Simple Predictors"
   ]
  },
  {
   "cell_type": "markdown",
   "metadata": {},
   "source": [
    "## KNN"
   ]
  },
  {
   "cell_type": "code",
   "execution_count": 8,
   "metadata": {},
   "outputs": [],
   "source": [
    "neigh = KNeighborsClassifier(n_neighbors=4)\n",
    "scores = accAccrossDS(neigh, \"KNN\")\n",
    "if(scores.name not in totalAcc.index):\n",
    "    totalAcc = totalAcc.append(scores)\n",
    "else:\n",
    "    totalAcc.loc[scores.name] = scores"
   ]
  },
  {
   "cell_type": "code",
   "execution_count": 36,
   "metadata": {
    "scrolled": true
   },
   "outputs": [
    {
     "name": "stdout",
     "output_type": "stream",
     "text": [
      "fit_time :  0.04492321014404297\n",
      "score_time :  0.07597231864929199\n",
      "test_accuracy :  0.876923076923077\n",
      "test_f1 :  0.912692838659533\n",
      "test_recall :  0.9698345479700732\n",
      "test_precision :  0.86220487698647\n"
     ]
    }
   ],
   "source": [
    "model = KNeighborsClassifier(n_neighbors=4)\n",
    "skores = sk.model_selection.cross_validate(model, combinedHCDf, winLossVals, cv=cvf, scoring=['accuracy','f1','recall','precision'])\n",
    "for key in skores:\n",
    "    print(key,\": \",np.mean(skores[key]))"
   ]
  },
  {
   "cell_type": "code",
   "execution_count": 10,
   "metadata": {},
   "outputs": [
    {
     "data": {
      "image/png": "[encoded data removed]",
      "text/plain": [
       "<Figure size 432x288 with 1 Axes>"
      ]
     },
     "metadata": {
      "needs_background": "light"
     },
     "output_type": "display_data"
    }
   ],
   "source": [
    "acc = []\n",
    "\n",
    "for k in range(1, 20):\n",
    "    model = KNeighborsClassifier(n_neighbors=k)\n",
    "    scores = cross_val_score(model, fullWordsDf, winLossVals)\n",
    "    acc.append(np.mean(scores))\n",
    "    \n",
    "fig = plt.figure()\n",
    "ax = fig.add_subplot(111)\n",
    "ax.plot(np.arange(1,20), acc)\n",
    "plt.xticks([0,2,4,6,8,10,12,14,16,18,20])\n",
    "\n",
    "ax.set_xlabel('K Value')\n",
    "ax.set_ylabel('Accuracy')\n",
    "plt.show()"
   ]
  },
  {
   "cell_type": "markdown",
   "metadata": {},
   "source": [
    "## Naive Bayes"
   ]
  },
  {
   "cell_type": "code",
   "execution_count": 11,
   "metadata": {},
   "outputs": [],
   "source": [
    "gaussNB = GaussianNB()\n",
    "scores = accAccrossDS(gaussNB, \"Naive Bayes\")\n",
    "if(scores.name not in totalAcc.index):\n",
    "    totalAcc = totalAcc.append(scores)\n",
    "else:\n",
    "    totalAcc.loc[scores.name] = scores"
   ]
  },
  {
   "cell_type": "code",
   "execution_count": 12,
   "metadata": {},
   "outputs": [],
   "source": [
    "# sorted(sk.metrics.SCORERS.keys())"
   ]
  },
  {
   "cell_type": "code",
   "execution_count": 13,
   "metadata": {},
   "outputs": [
    {
     "name": "stdout",
     "output_type": "stream",
     "text": [
      "fit_time :  0.028022909164428712\n",
      "score_time :  0.01647648811340332\n",
      "test_accuracy :  0.8630769230769231\n",
      "test_f1 :  0.8965888049288928\n",
      "test_recall :  0.8982677914173504\n",
      "test_precision :  0.8960052307476488\n"
     ]
    }
   ],
   "source": [
    "model = GaussianNB()\n",
    "skores = sk.model_selection.cross_validate(model, fullWordsDf, winLossVals, cv=cvf, scoring=['accuracy','f1','recall','precision'])\n",
    "for key in skores:\n",
    "    print(key,\": \",np.mean(skores[key]))"
   ]
  },
  {
   "cell_type": "markdown",
   "metadata": {},
   "source": [
    "## MLP"
   ]
  },
  {
   "cell_type": "code",
   "execution_count": 14,
   "metadata": {},
   "outputs": [],
   "source": [
    "mlp = MLPClassifier(random_state=randState, hidden_layer_sizes=(50, 25, 25), max_iter=10000)\n",
    "scores = accAccrossDS(mlp, \"MLP\")\n",
    "if(scores.name not in totalAcc.index):\n",
    "    totalAcc = totalAcc.append(scores)\n",
    "else:\n",
    "    totalAcc.loc[scores.name] = scores"
   ]
  },
  {
   "cell_type": "code",
   "execution_count": 40,
   "metadata": {},
   "outputs": [
    {
     "name": "stdout",
     "output_type": "stream",
     "text": [
      "fit_time :  0.9178394794464111\n",
      "score_time :  0.009273052215576172\n",
      "test_accuracy :  0.9123076923076923\n",
      "test_f1 :  0.933968366828702\n",
      "test_recall :  0.9374256016637732\n",
      "test_precision :  0.9307865168539327\n"
     ]
    }
   ],
   "source": [
    "model = MLPClassifier()\n",
    "skores = sk.model_selection.cross_validate(model, combinedHCDf, winLossVals, cv=cvf, scoring=['accuracy','f1','recall','precision'])\n",
    "for key in skores:\n",
    "    print(key,\": \",np.mean(skores[key]))"
   ]
  },
  {
   "cell_type": "markdown",
   "metadata": {},
   "source": [
    "## Decision Tree"
   ]
  },
  {
   "cell_type": "code",
   "execution_count": 16,
   "metadata": {},
   "outputs": [],
   "source": [
    "decTree = DecisionTreeClassifier(random_state=randState)\n",
    "scores = accAccrossDS(decTree, \"Decision Tree\")\n",
    "if(scores.name not in totalAcc.index):\n",
    "    totalAcc = totalAcc.append(scores)\n",
    "else:\n",
    "    totalAcc.loc[scores.name] = scores"
   ]
  },
  {
   "cell_type": "code",
   "execution_count": 37,
   "metadata": {
    "scrolled": true
   },
   "outputs": [
    {
     "name": "stdout",
     "output_type": "stream",
     "text": [
      "fit_time :  0.08715147972106933\n",
      "score_time :  0.010977983474731445\n",
      "test_accuracy :  0.8184615384615384\n",
      "test_f1 :  0.8627010499893325\n",
      "test_recall :  0.8613180277354295\n",
      "test_precision :  0.864892881423053\n"
     ]
    }
   ],
   "source": [
    "model = DecisionTreeClassifier()\n",
    "skores = sk.model_selection.cross_validate(model, wordsLessCommon, winLossVals, cv=cvf, scoring=['accuracy','f1','recall','precision'])\n",
    "for key in skores:\n",
    "    print(key,\": \",np.mean(skores[key]))"
   ]
  },
  {
   "cell_type": "markdown",
   "metadata": {},
   "source": [
    "# Ensemble\n",
    "## Bagging"
   ]
  },
  {
   "cell_type": "code",
   "execution_count": 18,
   "metadata": {},
   "outputs": [],
   "source": [
    "bagModel = BaggingClassifier(n_estimators=100, random_state=randState)\n",
    "scores = accAccrossDS(bagModel, \"Bagging Classifier\")\n",
    "if(scores.name not in totalAcc.index):\n",
    "    totalAcc = totalAcc.append(scores)\n",
    "else:\n",
    "    totalAcc.loc[scores.name] = scores"
   ]
  },
  {
   "cell_type": "code",
   "execution_count": 19,
   "metadata": {},
   "outputs": [
    {
     "name": "stdout",
     "output_type": "stream",
     "text": [
      "fit_time :  3.1421148777008057\n",
      "score_time :  0.04431419372558594\n",
      "test_accuracy :  0.8846153846153845\n",
      "test_f1 :  0.9136160113960123\n",
      "test_recall :  0.9195590002085592\n",
      "test_precision :  0.909130056287613\n"
     ]
    }
   ],
   "source": [
    "model = BaggingClassifier(n_estimators=100, random_state=randState)\n",
    "skores = sk.model_selection.cross_validate(model, combinedHCDf, winLossVals, cv=cvf, scoring=['accuracy','f1','recall','precision'])\n",
    "for key in skores:\n",
    "    print(key,\": \",np.mean(skores[key]))"
   ]
  },
  {
   "cell_type": "markdown",
   "metadata": {},
   "source": [
    "## Gradient Boost"
   ]
  },
  {
   "cell_type": "code",
   "execution_count": 20,
   "metadata": {},
   "outputs": [],
   "source": [
    "gradModel = GradientBoostingClassifier(n_estimators=100, random_state=randState)\n",
    "scores = accAccrossDS(gradModel, \"Gradient Boost\")\n",
    "if(scores.name not in totalAcc.index):\n",
    "    totalAcc = totalAcc.append(scores)\n",
    "else:\n",
    "    totalAcc.loc[scores.name] = scores"
   ]
  },
  {
   "cell_type": "code",
   "execution_count": 21,
   "metadata": {},
   "outputs": [
    {
     "name": "stdout",
     "output_type": "stream",
     "text": [
      "fit_time :  2.57946400642395\n",
      "score_time :  0.008374500274658202\n",
      "test_accuracy :  0.9092307692307692\n",
      "test_f1 :  0.9319385330170894\n",
      "test_recall :  0.9441666960411949\n",
      "test_precision :  0.920965474568899\n"
     ]
    }
   ],
   "source": [
    "model = GradientBoostingClassifier(n_estimators=100, random_state=randState)\n",
    "skores = sk.model_selection.cross_validate(model, combinedHCDf, winLossVals, cv=cvf, scoring=['accuracy','f1','recall','precision'])\n",
    "for key in skores:\n",
    "    print(key,\": \",np.mean(skores[key]))"
   ]
  },
  {
   "cell_type": "markdown",
   "metadata": {},
   "source": [
    "## Random Forest"
   ]
  },
  {
   "cell_type": "code",
   "execution_count": 22,
   "metadata": {},
   "outputs": [],
   "source": [
    "rfModel = RandomForestClassifier(n_estimators=100, random_state=randState)\n",
    "scores = accAccrossDS(rfModel, \"Random Forest\")\n",
    "if(scores.name not in totalAcc.index):\n",
    "    totalAcc = totalAcc.append(scores)\n",
    "else:\n",
    "    totalAcc.loc[scores.name] = scores"
   ]
  },
  {
   "cell_type": "code",
   "execution_count": 23,
   "metadata": {},
   "outputs": [
    {
     "name": "stdout",
     "output_type": "stream",
     "text": [
      "fit_time :  0.2786887168884277\n",
      "score_time :  0.017338323593139648\n",
      "test_accuracy :  0.8953846153846154\n",
      "test_f1 :  0.9230434206513186\n",
      "test_recall :  0.9471709905972135\n",
      "test_precision :  0.9015547538471127\n"
     ]
    }
   ],
   "source": [
    "\n",
    "\n",
    "model = RandomForestClassifier(n_estimators=100, random_state=randState)\n",
    "skores = sk.model_selection.cross_validate(model, combinedHCDf, winLossVals, cv=cvf, scoring=['accuracy','f1','recall','precision'])\n",
    "for key in skores:\n",
    "    print(key,\": \",np.mean(skores[key]))"
   ]
  },
  {
   "cell_type": "code",
   "execution_count": 43,
   "metadata": {},
   "outputs": [
    {
     "ename": "NameError",
     "evalue": "name 'train_test_split' is not defined",
     "output_type": "error",
     "traceback": [
      "\u001b[1;31m---------------------------------------------------------------------------\u001b[0m",
      "\u001b[1;31mNameError\u001b[0m                                 Traceback (most recent call last)",
      "\u001b[1;32m<ipython-input-43-b7af66ebc56a>\u001b[0m in \u001b[0;36m<module>\u001b[1;34m\u001b[0m\n\u001b[1;32m----> 1\u001b[1;33m \u001b[0mx_train\u001b[0m\u001b[1;33m,\u001b[0m \u001b[0mx_test\u001b[0m\u001b[1;33m,\u001b[0m \u001b[0my_train\u001b[0m\u001b[1;33m,\u001b[0m \u001b[0my_test\u001b[0m \u001b[1;33m=\u001b[0m \u001b[0mtrain_test_split\u001b[0m\u001b[1;33m(\u001b[0m\u001b[0mcombinedHCDf\u001b[0m\u001b[1;33m,\u001b[0m \u001b[0mwinLossVals\u001b[0m\u001b[1;33m,\u001b[0m \u001b[0mshuffle\u001b[0m\u001b[1;33m=\u001b[0m\u001b[1;32mTrue\u001b[0m\u001b[1;33m,\u001b[0m \u001b[0mtest_size\u001b[0m\u001b[1;33m=\u001b[0m\u001b[1;36m0.3\u001b[0m\u001b[1;33m)\u001b[0m\u001b[1;33m\u001b[0m\u001b[1;33m\u001b[0m\u001b[0m\n\u001b[0m\u001b[0;32m      2\u001b[0m \u001b[1;33m\u001b[0m\u001b[0m\n\u001b[0;32m      3\u001b[0m \u001b[0mmodel\u001b[0m \u001b[1;33m=\u001b[0m \u001b[0mRandomForestClassifier\u001b[0m\u001b[1;33m(\u001b[0m\u001b[0mn_estimators\u001b[0m\u001b[1;33m=\u001b[0m\u001b[1;36m100\u001b[0m\u001b[1;33m,\u001b[0m \u001b[0mrandom_state\u001b[0m\u001b[1;33m=\u001b[0m\u001b[0mrandState\u001b[0m\u001b[1;33m)\u001b[0m\u001b[1;33m\u001b[0m\u001b[1;33m\u001b[0m\u001b[0m\n\u001b[0;32m      4\u001b[0m \u001b[0mmodel\u001b[0m\u001b[1;33m.\u001b[0m\u001b[0mfit\u001b[0m\u001b[1;33m(\u001b[0m\u001b[0mx_train\u001b[0m\u001b[1;33m,\u001b[0m \u001b[0mx_test\u001b[0m\u001b[1;33m)\u001b[0m\u001b[1;33m\u001b[0m\u001b[1;33m\u001b[0m\u001b[0m\n",
      "\u001b[1;31mNameError\u001b[0m: name 'train_test_split' is not defined"
     ]
    }
   ],
   "source": [
    "x_train, x_test, y_train, y_test = train_test_split(combinedHCDf, winLossVals, shuffle=True, test_size=0.3)\n",
    "\n",
    "model = RandomForestClassifier(n_estimators=100, random_state=randState)\n",
    "model.fit(x_train, x_test)"
   ]
  },
  {
   "cell_type": "code",
   "execution_count": 24,
   "metadata": {},
   "outputs": [
    {
     "name": "stdout",
     "output_type": "stream",
     "text": [
      "{'fit_time': array([0.30026674, 0.28486919, 0.26703691, 0.27226996, 0.26900077]), 'score_time': array([0.01695657, 0.01694369, 0.01694417, 0.01792908, 0.01791811]), 'test_accuracy': array([0.87692308, 0.93076923, 0.87692308, 0.89230769, 0.9       ]), 'test_f1': array([0.91208791, 0.94797688, 0.90588235, 0.91954023, 0.92972973]), 'test_recall': array([0.91208791, 0.94252874, 0.9625    , 0.93023256, 0.98850575]), 'test_precision': array([0.91208791, 0.95348837, 0.85555556, 0.90909091, 0.87755102])}\n"
     ]
    }
   ],
   "source": [
    "print(skores)"
   ]
  },
  {
   "cell_type": "markdown",
   "metadata": {},
   "source": [
    "## AdaBoost"
   ]
  },
  {
   "cell_type": "code",
   "execution_count": 25,
   "metadata": {},
   "outputs": [],
   "source": [
    "adaModel = AdaBoostClassifier(n_estimators=100, random_state=randState)\n",
    "scores = accAccrossDS(adaModel, \"AdaBoost\")\n",
    "if(scores.name not in totalAcc.index):\n",
    "    totalAcc = totalAcc.append(scores)\n",
    "else:\n",
    "    totalAcc.loc[scores.name] = scores"
   ]
  },
  {
   "cell_type": "code",
   "execution_count": 26,
   "metadata": {
    "scrolled": true
   },
   "outputs": [
    {
     "name": "stdout",
     "output_type": "stream",
     "text": [
      "fit_time :  1.248326015472412\n",
      "score_time :  0.04156527519226074\n",
      "test_accuracy :  0.9092307692307694\n",
      "test_f1 :  0.9305553661030604\n",
      "test_recall :  0.9217111103277904\n",
      "test_precision :  0.9412199377410191\n"
     ]
    }
   ],
   "source": [
    "model = AdaBoostClassifier(n_estimators=100, random_state=randState)\n",
    "skores = sk.model_selection.cross_validate(model, combinedHCDf, winLossVals, cv=cvf, scoring=['accuracy','f1','recall','precision'])\n",
    "for key in skores:\n",
    "    print(key,\": \",np.mean(skores[key]))"
   ]
  },
  {
   "cell_type": "code",
   "execution_count": 66,
   "metadata": {},
   "outputs": [
    {
     "name": "stdout",
     "output_type": "stream",
     "text": [
      "0 1 2 3 4 5 6 7 8 9 10 11 12 13 14 15 16 17 18 19 20 21 22 23 24 25 26 27 28 29 30 31 32 33 34 35 36 37 38 39 40 41 42 43 44 45 46 47 48 49 50 51 52 53 54 55 56 57 58 59 60 61 62 63 64 65 66 67 68 69 70 71 72 73 74 75 76 77 78 79 80 81 82 83 84 85 86 87 88 89 90 91 92 93 94 95 96 97 98 99 "
     ]
    },
    {
     "data": {
      "text/plain": [
       "folks_NNS          0.0005\n",
       "chance_NN          0.0004\n",
       "union_NN           0.0003\n",
       "greater_JJR        0.0003\n",
       "americans_NPS      0.0003\n",
       "                    ...  \n",
       "respect_NN         0.0000\n",
       "middle-class_NN    0.0000\n",
       "act_VB             0.0000\n",
       "building_VBG       0.0000\n",
       "people_NNS         0.0000\n",
       "Length: 844, dtype: float64"
      ]
     },
     "execution_count": 66,
     "metadata": {},
     "output_type": "execute_result"
    }
   ],
   "source": [
    "x_train, x_test, y_train, y_test = train_test_split(wordsNSDf, winLossVals, shuffle=True, test_size=0.3)\n",
    "\n",
    "model = AdaBoostClassifier(n_estimators=100)\n",
    "model.fit(x_train, y_train)\n",
    "imp = model.feature_importances_\n",
    "attribute = pd.Series(imp, index=wordsNSDf.columns.to_numpy())\n",
    "\n",
    "# attribute = cols.sort_values(ascending=False)\n",
    "# print(type(attribute))\n",
    "\n",
    "for i in range(0,100):\n",
    "    x_train, x_test, y_train, y_test = train_test_split(wordsNSDf, winLossVals, shuffle=True, test_size=0.3)\n",
    "    model = AdaBoostClassifier(n_estimators=100)\n",
    "    model.fit(x_train, y_train)\n",
    "    imp = model.feature_importances_\n",
    "    attNew = pd.Series(imp, index=wordsNSDf.columns.to_numpy())\n",
    "    attribute.add(attNew)\n",
    "    print(i, end=\" \")\n",
    "\n",
    "attribute = attribute.sort_values(ascending=False)\n",
    "attribute.div(100)"
   ]
  },
  {
   "cell_type": "code",
   "execution_count": 67,
   "metadata": {},
   "outputs": [
    {
     "data": {
      "text/plain": [
       "folks_NNS        0.05\n",
       "chance_NN        0.04\n",
       "union_NN         0.03\n",
       "greater_JJR      0.03\n",
       "americans_NPS    0.03\n",
       "office_NN        0.03\n",
       "change_NN        0.02\n",
       "become_VB        0.02\n",
       "mccain_NP        0.02\n",
       "simple_JJ        0.02\n",
       "century_NN       0.02\n",
       "pay_VB           0.02\n",
       "work_NN          0.02\n",
       "country_NN       0.02\n",
       "politics_NN      0.02\n",
       "america_NP       0.02\n",
       "everybody_PN     0.02\n",
       "thank_VB         0.02\n",
       "best_JJT         0.02\n",
       "away_RB          0.02\n",
       "dtype: float64"
      ]
     },
     "execution_count": 67,
     "metadata": {},
     "output_type": "execute_result"
    }
   ],
   "source": [
    "attribute.head(20)"
   ]
  },
  {
   "cell_type": "markdown",
   "metadata": {},
   "source": [
    "# SVC"
   ]
  },
  {
   "cell_type": "code",
   "execution_count": 27,
   "metadata": {},
   "outputs": [],
   "source": [
    "svc = SVC()\n",
    "scores = accAccrossDS(svc, \"SVM\")\n",
    "if(scores.name not in totalAcc.index):\n",
    "    totalAcc = totalAcc.append(scores)\n",
    "else:\n",
    "    totalAcc.loc[scores.name] = scores"
   ]
  },
  {
   "cell_type": "code",
   "execution_count": 28,
   "metadata": {},
   "outputs": [
    {
     "name": "stdout",
     "output_type": "stream",
     "text": [
      "fit_time :  1.2453791141510009\n",
      "score_time :  0.041944026947021484\n",
      "test_accuracy :  0.9092307692307694\n",
      "test_f1 :  0.9305553661030604\n",
      "test_recall :  0.9217111103277904\n",
      "test_precision :  0.9412199377410191\n"
     ]
    }
   ],
   "source": [
    "svc = SVC()\n",
    "skores = sk.model_selection.cross_validate(model, combinedHCDf, winLossVals, cv=cvf, scoring=['accuracy','f1','recall','precision'])\n",
    "for key in skores:\n",
    "    print(key,\": \",np.mean(skores[key]))"
   ]
  },
  {
   "cell_type": "code",
   "execution_count": 29,
   "metadata": {},
   "outputs": [
    {
     "data": {
      "text/plain": [
       "Full Words                   0.875385\n",
       "No Stop Words                0.871111\n",
       "Stan Tags                    0.783932\n",
       "Deception                    0.693333\n",
       "Combined                     0.884274\n",
       "Words in >5 Speeches         0.872137\n",
       "Complete Combined            0.820684\n",
       "LDA2 FW                      0.882393\n",
       "LDA2 CHC                     0.986496\n",
       "lda1 Full Words              0.987350\n",
       "lda1 No Stop Words           0.993504\n",
       "lda1 Stan Tags               0.871111\n",
       "lda1 Deception               0.771453\n",
       "lda1 Combined                0.996923\n",
       "lda1 Words in >5 Speeches    0.983761\n",
       "lda1 Complete Combined       0.981880\n",
       "PCA Full Words               0.779316\n",
       "PCA No Stop Words            0.784615\n",
       "PCA Stan Tags                0.764615\n",
       "PCA Deception                0.687863\n",
       "PCA Combined                 0.821026\n",
       "PCA Words in >5 Speeches     0.778632\n",
       "PCA Complete Combined        0.688205\n",
       "svd5 Full Words              0.775726\n",
       "svd5 No Stop Words           0.753333\n",
       "svd5 Stan Tags               0.726496\n",
       "svd5 Deception               0.771453\n",
       "svd5 Combined                0.832821\n",
       "svd5 Words in >5 Speeches    0.773504\n",
       "svd5 Complete Combined       0.701026\n",
       "dtype: float64"
      ]
     },
     "execution_count": 29,
     "metadata": {},
     "output_type": "execute_result"
    }
   ],
   "source": [
    "totalAcc.mean(numeric_only=True)"
   ]
  },
  {
   "cell_type": "code",
   "execution_count": 30,
   "metadata": {
    "scrolled": true
   },
   "outputs": [
    {
     "data": {
      "text/html": [
       "<div>\n",
       "<style scoped>\n",
       "    .dataframe tbody tr th:only-of-type {\n",
       "        vertical-align: middle;\n",
       "    }\n",
       "\n",
       "    .dataframe tbody tr th {\n",
       "        vertical-align: top;\n",
       "    }\n",
       "\n",
       "    .dataframe thead th {\n",
       "        text-align: right;\n",
       "    }\n",
       "</style>\n",
       "<table border=\"1\" class=\"dataframe\">\n",
       "  <thead>\n",
       "    <tr style=\"text-align: right;\">\n",
       "      <th></th>\n",
       "      <th>KNN</th>\n",
       "      <th>Naive Bayes</th>\n",
       "      <th>MLP</th>\n",
       "      <th>Decision Tree</th>\n",
       "      <th>Bagging Classifier</th>\n",
       "      <th>Gradient Boost</th>\n",
       "      <th>Random Forest</th>\n",
       "      <th>AdaBoost</th>\n",
       "      <th>SVM</th>\n",
       "    </tr>\n",
       "  </thead>\n",
       "  <tbody>\n",
       "    <tr>\n",
       "      <th>Full Words</th>\n",
       "      <td>0.863077</td>\n",
       "      <td>0.863077</td>\n",
       "      <td>0.909231</td>\n",
       "      <td>0.796923</td>\n",
       "      <td>0.889231</td>\n",
       "      <td>0.903077</td>\n",
       "      <td>0.886154</td>\n",
       "      <td>0.910769</td>\n",
       "      <td>0.856923</td>\n",
       "    </tr>\n",
       "    <tr>\n",
       "      <th>No Stop Words</th>\n",
       "      <td>0.838462</td>\n",
       "      <td>0.867692</td>\n",
       "      <td>0.915385</td>\n",
       "      <td>0.800000</td>\n",
       "      <td>0.855385</td>\n",
       "      <td>0.895385</td>\n",
       "      <td>0.886154</td>\n",
       "      <td>0.884615</td>\n",
       "      <td>0.896923</td>\n",
       "    </tr>\n",
       "    <tr>\n",
       "      <th>Stan Tags</th>\n",
       "      <td>0.789231</td>\n",
       "      <td>0.770769</td>\n",
       "      <td>0.663077</td>\n",
       "      <td>0.775385</td>\n",
       "      <td>0.821538</td>\n",
       "      <td>0.832308</td>\n",
       "      <td>0.832308</td>\n",
       "      <td>0.824615</td>\n",
       "      <td>0.746154</td>\n",
       "    </tr>\n",
       "    <tr>\n",
       "      <th>Deception</th>\n",
       "      <td>0.655385</td>\n",
       "      <td>0.480000</td>\n",
       "      <td>0.726154</td>\n",
       "      <td>0.678462</td>\n",
       "      <td>0.746154</td>\n",
       "      <td>0.752308</td>\n",
       "      <td>0.766154</td>\n",
       "      <td>0.704615</td>\n",
       "      <td>0.730769</td>\n",
       "    </tr>\n",
       "    <tr>\n",
       "      <th>Combined</th>\n",
       "      <td>0.876923</td>\n",
       "      <td>0.860000</td>\n",
       "      <td>0.910769</td>\n",
       "      <td>0.803077</td>\n",
       "      <td>0.884615</td>\n",
       "      <td>0.909231</td>\n",
       "      <td>0.895385</td>\n",
       "      <td>0.909231</td>\n",
       "      <td>0.909231</td>\n",
       "    </tr>\n",
       "    <tr>\n",
       "      <th>Words in &gt;5 Speeches</th>\n",
       "      <td>0.861538</td>\n",
       "      <td>0.850769</td>\n",
       "      <td>0.906154</td>\n",
       "      <td>0.804615</td>\n",
       "      <td>0.875385</td>\n",
       "      <td>0.912308</td>\n",
       "      <td>0.876923</td>\n",
       "      <td>0.907692</td>\n",
       "      <td>0.853846</td>\n",
       "    </tr>\n",
       "    <tr>\n",
       "      <th>Complete Combined</th>\n",
       "      <td>0.655385</td>\n",
       "      <td>0.832308</td>\n",
       "      <td>0.778462</td>\n",
       "      <td>0.800000</td>\n",
       "      <td>0.890769</td>\n",
       "      <td>0.910769</td>\n",
       "      <td>0.875385</td>\n",
       "      <td>0.909231</td>\n",
       "      <td>0.733846</td>\n",
       "    </tr>\n",
       "    <tr>\n",
       "      <th>LDA2 FW</th>\n",
       "      <td>0.893846</td>\n",
       "      <td>0.776923</td>\n",
       "      <td>0.904615</td>\n",
       "      <td>0.895385</td>\n",
       "      <td>0.903077</td>\n",
       "      <td>0.906154</td>\n",
       "      <td>0.906154</td>\n",
       "      <td>0.903077</td>\n",
       "      <td>0.852308</td>\n",
       "    </tr>\n",
       "    <tr>\n",
       "      <th>LDA2 CHC</th>\n",
       "      <td>0.995385</td>\n",
       "      <td>0.929231</td>\n",
       "      <td>0.996923</td>\n",
       "      <td>0.992308</td>\n",
       "      <td>0.992308</td>\n",
       "      <td>0.992308</td>\n",
       "      <td>0.995385</td>\n",
       "      <td>0.989231</td>\n",
       "      <td>0.995385</td>\n",
       "    </tr>\n",
       "    <tr>\n",
       "      <th>lda1 Full Words</th>\n",
       "      <td>0.989231</td>\n",
       "      <td>0.989231</td>\n",
       "      <td>0.989231</td>\n",
       "      <td>0.986154</td>\n",
       "      <td>0.986154</td>\n",
       "      <td>0.986154</td>\n",
       "      <td>0.986154</td>\n",
       "      <td>0.986154</td>\n",
       "      <td>0.987692</td>\n",
       "    </tr>\n",
       "    <tr>\n",
       "      <th>lda1 No Stop Words</th>\n",
       "      <td>0.993846</td>\n",
       "      <td>0.992308</td>\n",
       "      <td>0.992308</td>\n",
       "      <td>0.993846</td>\n",
       "      <td>0.993846</td>\n",
       "      <td>0.993846</td>\n",
       "      <td>0.993846</td>\n",
       "      <td>0.993846</td>\n",
       "      <td>0.993846</td>\n",
       "    </tr>\n",
       "    <tr>\n",
       "      <th>lda1 Stan Tags</th>\n",
       "      <td>0.883077</td>\n",
       "      <td>0.893846</td>\n",
       "      <td>0.887692</td>\n",
       "      <td>0.855385</td>\n",
       "      <td>0.855385</td>\n",
       "      <td>0.855385</td>\n",
       "      <td>0.855385</td>\n",
       "      <td>0.867692</td>\n",
       "      <td>0.886154</td>\n",
       "    </tr>\n",
       "    <tr>\n",
       "      <th>lda1 Deception</th>\n",
       "      <td>0.773846</td>\n",
       "      <td>0.796923</td>\n",
       "      <td>0.793846</td>\n",
       "      <td>0.744615</td>\n",
       "      <td>0.744615</td>\n",
       "      <td>0.760000</td>\n",
       "      <td>0.744615</td>\n",
       "      <td>0.790769</td>\n",
       "      <td>0.793846</td>\n",
       "    </tr>\n",
       "    <tr>\n",
       "      <th>lda1 Combined</th>\n",
       "      <td>0.996923</td>\n",
       "      <td>0.996923</td>\n",
       "      <td>0.996923</td>\n",
       "      <td>0.996923</td>\n",
       "      <td>0.996923</td>\n",
       "      <td>0.996923</td>\n",
       "      <td>0.996923</td>\n",
       "      <td>0.996923</td>\n",
       "      <td>0.996923</td>\n",
       "    </tr>\n",
       "    <tr>\n",
       "      <th>lda1 Words in &gt;5 Speeches</th>\n",
       "      <td>0.989231</td>\n",
       "      <td>0.989231</td>\n",
       "      <td>0.989231</td>\n",
       "      <td>0.980000</td>\n",
       "      <td>0.980000</td>\n",
       "      <td>0.980000</td>\n",
       "      <td>0.980000</td>\n",
       "      <td>0.980000</td>\n",
       "      <td>0.986154</td>\n",
       "    </tr>\n",
       "    <tr>\n",
       "      <th>lda1 Complete Combined</th>\n",
       "      <td>0.987692</td>\n",
       "      <td>0.984615</td>\n",
       "      <td>0.986154</td>\n",
       "      <td>0.978462</td>\n",
       "      <td>0.978462</td>\n",
       "      <td>0.978462</td>\n",
       "      <td>0.978462</td>\n",
       "      <td>0.978462</td>\n",
       "      <td>0.986154</td>\n",
       "    </tr>\n",
       "    <tr>\n",
       "      <th>PCA Full Words</th>\n",
       "      <td>0.858462</td>\n",
       "      <td>0.638462</td>\n",
       "      <td>0.887692</td>\n",
       "      <td>0.715385</td>\n",
       "      <td>0.770769</td>\n",
       "      <td>0.789231</td>\n",
       "      <td>0.695385</td>\n",
       "      <td>0.766154</td>\n",
       "      <td>0.892308</td>\n",
       "    </tr>\n",
       "    <tr>\n",
       "      <th>PCA No Stop Words</th>\n",
       "      <td>0.849231</td>\n",
       "      <td>0.640000</td>\n",
       "      <td>0.864615</td>\n",
       "      <td>0.729231</td>\n",
       "      <td>0.800000</td>\n",
       "      <td>0.810769</td>\n",
       "      <td>0.706154</td>\n",
       "      <td>0.767692</td>\n",
       "      <td>0.893846</td>\n",
       "    </tr>\n",
       "    <tr>\n",
       "      <th>PCA Stan Tags</th>\n",
       "      <td>0.793846</td>\n",
       "      <td>0.747692</td>\n",
       "      <td>0.663077</td>\n",
       "      <td>0.701538</td>\n",
       "      <td>0.792308</td>\n",
       "      <td>0.784615</td>\n",
       "      <td>0.764615</td>\n",
       "      <td>0.787692</td>\n",
       "      <td>0.846154</td>\n",
       "    </tr>\n",
       "    <tr>\n",
       "      <th>PCA Deception</th>\n",
       "      <td>0.656923</td>\n",
       "      <td>0.636923</td>\n",
       "      <td>0.723077</td>\n",
       "      <td>0.640000</td>\n",
       "      <td>0.712308</td>\n",
       "      <td>0.689231</td>\n",
       "      <td>0.715385</td>\n",
       "      <td>0.689231</td>\n",
       "      <td>0.727692</td>\n",
       "    </tr>\n",
       "    <tr>\n",
       "      <th>PCA Combined</th>\n",
       "      <td>0.876923</td>\n",
       "      <td>0.678462</td>\n",
       "      <td>0.883077</td>\n",
       "      <td>0.795385</td>\n",
       "      <td>0.840000</td>\n",
       "      <td>0.847692</td>\n",
       "      <td>0.741538</td>\n",
       "      <td>0.829231</td>\n",
       "      <td>0.896923</td>\n",
       "    </tr>\n",
       "    <tr>\n",
       "      <th>PCA Words in &gt;5 Speeches</th>\n",
       "      <td>0.858462</td>\n",
       "      <td>0.640000</td>\n",
       "      <td>0.886154</td>\n",
       "      <td>0.709231</td>\n",
       "      <td>0.775385</td>\n",
       "      <td>0.766154</td>\n",
       "      <td>0.720000</td>\n",
       "      <td>0.758462</td>\n",
       "      <td>0.893846</td>\n",
       "    </tr>\n",
       "    <tr>\n",
       "      <th>PCA Complete Combined</th>\n",
       "      <td>0.656923</td>\n",
       "      <td>0.638462</td>\n",
       "      <td>0.721538</td>\n",
       "      <td>0.638462</td>\n",
       "      <td>0.709231</td>\n",
       "      <td>0.703077</td>\n",
       "      <td>0.706154</td>\n",
       "      <td>0.692308</td>\n",
       "      <td>0.727692</td>\n",
       "    </tr>\n",
       "    <tr>\n",
       "      <th>svd5 Full Words</th>\n",
       "      <td>0.789231</td>\n",
       "      <td>0.773846</td>\n",
       "      <td>0.663077</td>\n",
       "      <td>0.780000</td>\n",
       "      <td>0.807692</td>\n",
       "      <td>0.803077</td>\n",
       "      <td>0.800000</td>\n",
       "      <td>0.767692</td>\n",
       "      <td>0.796923</td>\n",
       "    </tr>\n",
       "    <tr>\n",
       "      <th>svd5 No Stop Words</th>\n",
       "      <td>0.740000</td>\n",
       "      <td>0.746154</td>\n",
       "      <td>0.663077</td>\n",
       "      <td>0.715385</td>\n",
       "      <td>0.793846</td>\n",
       "      <td>0.775385</td>\n",
       "      <td>0.803077</td>\n",
       "      <td>0.756923</td>\n",
       "      <td>0.786154</td>\n",
       "    </tr>\n",
       "    <tr>\n",
       "      <th>svd5 Stan Tags</th>\n",
       "      <td>0.727692</td>\n",
       "      <td>0.761538</td>\n",
       "      <td>0.672308</td>\n",
       "      <td>0.704615</td>\n",
       "      <td>0.729231</td>\n",
       "      <td>0.736923</td>\n",
       "      <td>0.744615</td>\n",
       "      <td>0.738462</td>\n",
       "      <td>0.723077</td>\n",
       "    </tr>\n",
       "    <tr>\n",
       "      <th>svd5 Deception</th>\n",
       "      <td>0.773846</td>\n",
       "      <td>0.796923</td>\n",
       "      <td>0.793846</td>\n",
       "      <td>0.744615</td>\n",
       "      <td>0.744615</td>\n",
       "      <td>0.760000</td>\n",
       "      <td>0.744615</td>\n",
       "      <td>0.790769</td>\n",
       "      <td>0.793846</td>\n",
       "    </tr>\n",
       "    <tr>\n",
       "      <th>svd5 Combined</th>\n",
       "      <td>0.852308</td>\n",
       "      <td>0.789231</td>\n",
       "      <td>0.850769</td>\n",
       "      <td>0.813846</td>\n",
       "      <td>0.846154</td>\n",
       "      <td>0.841538</td>\n",
       "      <td>0.849231</td>\n",
       "      <td>0.824615</td>\n",
       "      <td>0.827692</td>\n",
       "    </tr>\n",
       "    <tr>\n",
       "      <th>svd5 Words in &gt;5 Speeches</th>\n",
       "      <td>0.786154</td>\n",
       "      <td>0.772308</td>\n",
       "      <td>0.663077</td>\n",
       "      <td>0.776923</td>\n",
       "      <td>0.804615</td>\n",
       "      <td>0.809231</td>\n",
       "      <td>0.792308</td>\n",
       "      <td>0.769231</td>\n",
       "      <td>0.787692</td>\n",
       "    </tr>\n",
       "    <tr>\n",
       "      <th>svd5 Complete Combined</th>\n",
       "      <td>0.696923</td>\n",
       "      <td>0.669231</td>\n",
       "      <td>0.707692</td>\n",
       "      <td>0.672308</td>\n",
       "      <td>0.724615</td>\n",
       "      <td>0.712308</td>\n",
       "      <td>0.718462</td>\n",
       "      <td>0.710769</td>\n",
       "      <td>0.696923</td>\n",
       "    </tr>\n",
       "  </tbody>\n",
       "</table>\n",
       "</div>"
      ],
      "text/plain": [
       "                                KNN  Naive Bayes       MLP  Decision Tree  \\\n",
       "Full Words                 0.863077     0.863077  0.909231       0.796923   \n",
       "No Stop Words              0.838462     0.867692  0.915385       0.800000   \n",
       "Stan Tags                  0.789231     0.770769  0.663077       0.775385   \n",
       "Deception                  0.655385     0.480000  0.726154       0.678462   \n",
       "Combined                   0.876923     0.860000  0.910769       0.803077   \n",
       "Words in >5 Speeches       0.861538     0.850769  0.906154       0.804615   \n",
       "Complete Combined          0.655385     0.832308  0.778462       0.800000   \n",
       "LDA2 FW                    0.893846     0.776923  0.904615       0.895385   \n",
       "LDA2 CHC                   0.995385     0.929231  0.996923       0.992308   \n",
       "lda1 Full Words            0.989231     0.989231  0.989231       0.986154   \n",
       "lda1 No Stop Words         0.993846     0.992308  0.992308       0.993846   \n",
       "lda1 Stan Tags             0.883077     0.893846  0.887692       0.855385   \n",
       "lda1 Deception             0.773846     0.796923  0.793846       0.744615   \n",
       "lda1 Combined              0.996923     0.996923  0.996923       0.996923   \n",
       "lda1 Words in >5 Speeches  0.989231     0.989231  0.989231       0.980000   \n",
       "lda1 Complete Combined     0.987692     0.984615  0.986154       0.978462   \n",
       "PCA Full Words             0.858462     0.638462  0.887692       0.715385   \n",
       "PCA No Stop Words          0.849231     0.640000  0.864615       0.729231   \n",
       "PCA Stan Tags              0.793846     0.747692  0.663077       0.701538   \n",
       "PCA Deception              0.656923     0.636923  0.723077       0.640000   \n",
       "PCA Combined               0.876923     0.678462  0.883077       0.795385   \n",
       "PCA Words in >5 Speeches   0.858462     0.640000  0.886154       0.709231   \n",
       "PCA Complete Combined      0.656923     0.638462  0.721538       0.638462   \n",
       "svd5 Full Words            0.789231     0.773846  0.663077       0.780000   \n",
       "svd5 No Stop Words         0.740000     0.746154  0.663077       0.715385   \n",
       "svd5 Stan Tags             0.727692     0.761538  0.672308       0.704615   \n",
       "svd5 Deception             0.773846     0.796923  0.793846       0.744615   \n",
       "svd5 Combined              0.852308     0.789231  0.850769       0.813846   \n",
       "svd5 Words in >5 Speeches  0.786154     0.772308  0.663077       0.776923   \n",
       "svd5 Complete Combined     0.696923     0.669231  0.707692       0.672308   \n",
       "\n",
       "                           Bagging Classifier  Gradient Boost  Random Forest  \\\n",
       "Full Words                           0.889231        0.903077       0.886154   \n",
       "No Stop Words                        0.855385        0.895385       0.886154   \n",
       "Stan Tags                            0.821538        0.832308       0.832308   \n",
       "Deception                            0.746154        0.752308       0.766154   \n",
       "Combined                             0.884615        0.909231       0.895385   \n",
       "Words in >5 Speeches                 0.875385        0.912308       0.876923   \n",
       "Complete Combined                    0.890769        0.910769       0.875385   \n",
       "LDA2 FW                              0.903077        0.906154       0.906154   \n",
       "LDA2 CHC                             0.992308        0.992308       0.995385   \n",
       "lda1 Full Words                      0.986154        0.986154       0.986154   \n",
       "lda1 No Stop Words                   0.993846        0.993846       0.993846   \n",
       "lda1 Stan Tags                       0.855385        0.855385       0.855385   \n",
       "lda1 Deception                       0.744615        0.760000       0.744615   \n",
       "lda1 Combined                        0.996923        0.996923       0.996923   \n",
       "lda1 Words in >5 Speeches            0.980000        0.980000       0.980000   \n",
       "lda1 Complete Combined               0.978462        0.978462       0.978462   \n",
       "PCA Full Words                       0.770769        0.789231       0.695385   \n",
       "PCA No Stop Words                    0.800000        0.810769       0.706154   \n",
       "PCA Stan Tags                        0.792308        0.784615       0.764615   \n",
       "PCA Deception                        0.712308        0.689231       0.715385   \n",
       "PCA Combined                         0.840000        0.847692       0.741538   \n",
       "PCA Words in >5 Speeches             0.775385        0.766154       0.720000   \n",
       "PCA Complete Combined                0.709231        0.703077       0.706154   \n",
       "svd5 Full Words                      0.807692        0.803077       0.800000   \n",
       "svd5 No Stop Words                   0.793846        0.775385       0.803077   \n",
       "svd5 Stan Tags                       0.729231        0.736923       0.744615   \n",
       "svd5 Deception                       0.744615        0.760000       0.744615   \n",
       "svd5 Combined                        0.846154        0.841538       0.849231   \n",
       "svd5 Words in >5 Speeches            0.804615        0.809231       0.792308   \n",
       "svd5 Complete Combined               0.724615        0.712308       0.718462   \n",
       "\n",
       "                           AdaBoost       SVM  \n",
       "Full Words                 0.910769  0.856923  \n",
       "No Stop Words              0.884615  0.896923  \n",
       "Stan Tags                  0.824615  0.746154  \n",
       "Deception                  0.704615  0.730769  \n",
       "Combined                   0.909231  0.909231  \n",
       "Words in >5 Speeches       0.907692  0.853846  \n",
       "Complete Combined          0.909231  0.733846  \n",
       "LDA2 FW                    0.903077  0.852308  \n",
       "LDA2 CHC                   0.989231  0.995385  \n",
       "lda1 Full Words            0.986154  0.987692  \n",
       "lda1 No Stop Words         0.993846  0.993846  \n",
       "lda1 Stan Tags             0.867692  0.886154  \n",
       "lda1 Deception             0.790769  0.793846  \n",
       "lda1 Combined              0.996923  0.996923  \n",
       "lda1 Words in >5 Speeches  0.980000  0.986154  \n",
       "lda1 Complete Combined     0.978462  0.986154  \n",
       "PCA Full Words             0.766154  0.892308  \n",
       "PCA No Stop Words          0.767692  0.893846  \n",
       "PCA Stan Tags              0.787692  0.846154  \n",
       "PCA Deception              0.689231  0.727692  \n",
       "PCA Combined               0.829231  0.896923  \n",
       "PCA Words in >5 Speeches   0.758462  0.893846  \n",
       "PCA Complete Combined      0.692308  0.727692  \n",
       "svd5 Full Words            0.767692  0.796923  \n",
       "svd5 No Stop Words         0.756923  0.786154  \n",
       "svd5 Stan Tags             0.738462  0.723077  \n",
       "svd5 Deception             0.790769  0.793846  \n",
       "svd5 Combined              0.824615  0.827692  \n",
       "svd5 Words in >5 Speeches  0.769231  0.787692  \n",
       "svd5 Complete Combined     0.710769  0.696923  "
      ]
     },
     "execution_count": 30,
     "metadata": {},
     "output_type": "execute_result"
    }
   ],
   "source": [
    "totalAcc.T"
   ]
  },
  {
   "cell_type": "code",
   "execution_count": 31,
   "metadata": {
    "scrolled": true
   },
   "outputs": [
    {
     "data": {
      "text/html": [
       "<div>\n",
       "<style scoped>\n",
       "    .dataframe tbody tr th:only-of-type {\n",
       "        vertical-align: middle;\n",
       "    }\n",
       "\n",
       "    .dataframe tbody tr th {\n",
       "        vertical-align: top;\n",
       "    }\n",
       "\n",
       "    .dataframe thead th {\n",
       "        text-align: right;\n",
       "    }\n",
       "</style>\n",
       "<table border=\"1\" class=\"dataframe\">\n",
       "  <thead>\n",
       "    <tr style=\"text-align: right;\">\n",
       "      <th></th>\n",
       "      <th>Full Words</th>\n",
       "      <th>No Stop Words</th>\n",
       "      <th>Stan Tags</th>\n",
       "      <th>Deception</th>\n",
       "      <th>Combined</th>\n",
       "      <th>Words in &gt;5 Speeches</th>\n",
       "      <th>Complete Combined</th>\n",
       "      <th>LDA2 FW</th>\n",
       "      <th>LDA2 CHC</th>\n",
       "      <th>lda1 Full Words</th>\n",
       "      <th>...</th>\n",
       "      <th>PCA Combined</th>\n",
       "      <th>PCA Words in &gt;5 Speeches</th>\n",
       "      <th>PCA Complete Combined</th>\n",
       "      <th>svd5 Full Words</th>\n",
       "      <th>svd5 No Stop Words</th>\n",
       "      <th>svd5 Stan Tags</th>\n",
       "      <th>svd5 Deception</th>\n",
       "      <th>svd5 Combined</th>\n",
       "      <th>svd5 Words in &gt;5 Speeches</th>\n",
       "      <th>svd5 Complete Combined</th>\n",
       "    </tr>\n",
       "  </thead>\n",
       "  <tbody>\n",
       "    <tr>\n",
       "      <th>KNN</th>\n",
       "      <td>0.863077</td>\n",
       "      <td>0.838462</td>\n",
       "      <td>0.789231</td>\n",
       "      <td>0.655385</td>\n",
       "      <td>0.876923</td>\n",
       "      <td>0.861538</td>\n",
       "      <td>0.655385</td>\n",
       "      <td>0.893846</td>\n",
       "      <td>0.995385</td>\n",
       "      <td>0.989231</td>\n",
       "      <td>...</td>\n",
       "      <td>0.876923</td>\n",
       "      <td>0.858462</td>\n",
       "      <td>0.656923</td>\n",
       "      <td>0.789231</td>\n",
       "      <td>0.740000</td>\n",
       "      <td>0.727692</td>\n",
       "      <td>0.773846</td>\n",
       "      <td>0.852308</td>\n",
       "      <td>0.786154</td>\n",
       "      <td>0.696923</td>\n",
       "    </tr>\n",
       "    <tr>\n",
       "      <th>Naive Bayes</th>\n",
       "      <td>0.863077</td>\n",
       "      <td>0.867692</td>\n",
       "      <td>0.770769</td>\n",
       "      <td>0.480000</td>\n",
       "      <td>0.860000</td>\n",
       "      <td>0.850769</td>\n",
       "      <td>0.832308</td>\n",
       "      <td>0.776923</td>\n",
       "      <td>0.929231</td>\n",
       "      <td>0.989231</td>\n",
       "      <td>...</td>\n",
       "      <td>0.678462</td>\n",
       "      <td>0.640000</td>\n",
       "      <td>0.638462</td>\n",
       "      <td>0.773846</td>\n",
       "      <td>0.746154</td>\n",
       "      <td>0.761538</td>\n",
       "      <td>0.796923</td>\n",
       "      <td>0.789231</td>\n",
       "      <td>0.772308</td>\n",
       "      <td>0.669231</td>\n",
       "    </tr>\n",
       "    <tr>\n",
       "      <th>MLP</th>\n",
       "      <td>0.909231</td>\n",
       "      <td>0.915385</td>\n",
       "      <td>0.663077</td>\n",
       "      <td>0.726154</td>\n",
       "      <td>0.910769</td>\n",
       "      <td>0.906154</td>\n",
       "      <td>0.778462</td>\n",
       "      <td>0.904615</td>\n",
       "      <td>0.996923</td>\n",
       "      <td>0.989231</td>\n",
       "      <td>...</td>\n",
       "      <td>0.883077</td>\n",
       "      <td>0.886154</td>\n",
       "      <td>0.721538</td>\n",
       "      <td>0.663077</td>\n",
       "      <td>0.663077</td>\n",
       "      <td>0.672308</td>\n",
       "      <td>0.793846</td>\n",
       "      <td>0.850769</td>\n",
       "      <td>0.663077</td>\n",
       "      <td>0.707692</td>\n",
       "    </tr>\n",
       "    <tr>\n",
       "      <th>Decision Tree</th>\n",
       "      <td>0.796923</td>\n",
       "      <td>0.800000</td>\n",
       "      <td>0.775385</td>\n",
       "      <td>0.678462</td>\n",
       "      <td>0.803077</td>\n",
       "      <td>0.804615</td>\n",
       "      <td>0.800000</td>\n",
       "      <td>0.895385</td>\n",
       "      <td>0.992308</td>\n",
       "      <td>0.986154</td>\n",
       "      <td>...</td>\n",
       "      <td>0.795385</td>\n",
       "      <td>0.709231</td>\n",
       "      <td>0.638462</td>\n",
       "      <td>0.780000</td>\n",
       "      <td>0.715385</td>\n",
       "      <td>0.704615</td>\n",
       "      <td>0.744615</td>\n",
       "      <td>0.813846</td>\n",
       "      <td>0.776923</td>\n",
       "      <td>0.672308</td>\n",
       "    </tr>\n",
       "    <tr>\n",
       "      <th>Bagging Classifier</th>\n",
       "      <td>0.889231</td>\n",
       "      <td>0.855385</td>\n",
       "      <td>0.821538</td>\n",
       "      <td>0.746154</td>\n",
       "      <td>0.884615</td>\n",
       "      <td>0.875385</td>\n",
       "      <td>0.890769</td>\n",
       "      <td>0.903077</td>\n",
       "      <td>0.992308</td>\n",
       "      <td>0.986154</td>\n",
       "      <td>...</td>\n",
       "      <td>0.840000</td>\n",
       "      <td>0.775385</td>\n",
       "      <td>0.709231</td>\n",
       "      <td>0.807692</td>\n",
       "      <td>0.793846</td>\n",
       "      <td>0.729231</td>\n",
       "      <td>0.744615</td>\n",
       "      <td>0.846154</td>\n",
       "      <td>0.804615</td>\n",
       "      <td>0.724615</td>\n",
       "    </tr>\n",
       "    <tr>\n",
       "      <th>Gradient Boost</th>\n",
       "      <td>0.903077</td>\n",
       "      <td>0.895385</td>\n",
       "      <td>0.832308</td>\n",
       "      <td>0.752308</td>\n",
       "      <td>0.909231</td>\n",
       "      <td>0.912308</td>\n",
       "      <td>0.910769</td>\n",
       "      <td>0.906154</td>\n",
       "      <td>0.992308</td>\n",
       "      <td>0.986154</td>\n",
       "      <td>...</td>\n",
       "      <td>0.847692</td>\n",
       "      <td>0.766154</td>\n",
       "      <td>0.703077</td>\n",
       "      <td>0.803077</td>\n",
       "      <td>0.775385</td>\n",
       "      <td>0.736923</td>\n",
       "      <td>0.760000</td>\n",
       "      <td>0.841538</td>\n",
       "      <td>0.809231</td>\n",
       "      <td>0.712308</td>\n",
       "    </tr>\n",
       "    <tr>\n",
       "      <th>Random Forest</th>\n",
       "      <td>0.886154</td>\n",
       "      <td>0.886154</td>\n",
       "      <td>0.832308</td>\n",
       "      <td>0.766154</td>\n",
       "      <td>0.895385</td>\n",
       "      <td>0.876923</td>\n",
       "      <td>0.875385</td>\n",
       "      <td>0.906154</td>\n",
       "      <td>0.995385</td>\n",
       "      <td>0.986154</td>\n",
       "      <td>...</td>\n",
       "      <td>0.741538</td>\n",
       "      <td>0.720000</td>\n",
       "      <td>0.706154</td>\n",
       "      <td>0.800000</td>\n",
       "      <td>0.803077</td>\n",
       "      <td>0.744615</td>\n",
       "      <td>0.744615</td>\n",
       "      <td>0.849231</td>\n",
       "      <td>0.792308</td>\n",
       "      <td>0.718462</td>\n",
       "    </tr>\n",
       "    <tr>\n",
       "      <th>AdaBoost</th>\n",
       "      <td>0.910769</td>\n",
       "      <td>0.884615</td>\n",
       "      <td>0.824615</td>\n",
       "      <td>0.704615</td>\n",
       "      <td>0.909231</td>\n",
       "      <td>0.907692</td>\n",
       "      <td>0.909231</td>\n",
       "      <td>0.903077</td>\n",
       "      <td>0.989231</td>\n",
       "      <td>0.986154</td>\n",
       "      <td>...</td>\n",
       "      <td>0.829231</td>\n",
       "      <td>0.758462</td>\n",
       "      <td>0.692308</td>\n",
       "      <td>0.767692</td>\n",
       "      <td>0.756923</td>\n",
       "      <td>0.738462</td>\n",
       "      <td>0.790769</td>\n",
       "      <td>0.824615</td>\n",
       "      <td>0.769231</td>\n",
       "      <td>0.710769</td>\n",
       "    </tr>\n",
       "    <tr>\n",
       "      <th>SVM</th>\n",
       "      <td>0.856923</td>\n",
       "      <td>0.896923</td>\n",
       "      <td>0.746154</td>\n",
       "      <td>0.730769</td>\n",
       "      <td>0.909231</td>\n",
       "      <td>0.853846</td>\n",
       "      <td>0.733846</td>\n",
       "      <td>0.852308</td>\n",
       "      <td>0.995385</td>\n",
       "      <td>0.987692</td>\n",
       "      <td>...</td>\n",
       "      <td>0.896923</td>\n",
       "      <td>0.893846</td>\n",
       "      <td>0.727692</td>\n",
       "      <td>0.796923</td>\n",
       "      <td>0.786154</td>\n",
       "      <td>0.723077</td>\n",
       "      <td>0.793846</td>\n",
       "      <td>0.827692</td>\n",
       "      <td>0.787692</td>\n",
       "      <td>0.696923</td>\n",
       "    </tr>\n",
       "  </tbody>\n",
       "</table>\n",
       "<p>9 rows × 30 columns</p>\n",
       "</div>"
      ],
      "text/plain": [
       "                    Full Words  No Stop Words  Stan Tags  Deception  Combined  \\\n",
       "KNN                   0.863077       0.838462   0.789231   0.655385  0.876923   \n",
       "Naive Bayes           0.863077       0.867692   0.770769   0.480000  0.860000   \n",
       "MLP                   0.909231       0.915385   0.663077   0.726154  0.910769   \n",
       "Decision Tree         0.796923       0.800000   0.775385   0.678462  0.803077   \n",
       "Bagging Classifier    0.889231       0.855385   0.821538   0.746154  0.884615   \n",
       "Gradient Boost        0.903077       0.895385   0.832308   0.752308  0.909231   \n",
       "Random Forest         0.886154       0.886154   0.832308   0.766154  0.895385   \n",
       "AdaBoost              0.910769       0.884615   0.824615   0.704615  0.909231   \n",
       "SVM                   0.856923       0.896923   0.746154   0.730769  0.909231   \n",
       "\n",
       "                    Words in >5 Speeches  Complete Combined   LDA2 FW  \\\n",
       "KNN                             0.861538           0.655385  0.893846   \n",
       "Naive Bayes                     0.850769           0.832308  0.776923   \n",
       "MLP                             0.906154           0.778462  0.904615   \n",
       "Decision Tree                   0.804615           0.800000  0.895385   \n",
       "Bagging Classifier              0.875385           0.890769  0.903077   \n",
       "Gradient Boost                  0.912308           0.910769  0.906154   \n",
       "Random Forest                   0.876923           0.875385  0.906154   \n",
       "AdaBoost                        0.907692           0.909231  0.903077   \n",
       "SVM                             0.853846           0.733846  0.852308   \n",
       "\n",
       "                    LDA2 CHC  lda1 Full Words  ...  PCA Combined  \\\n",
       "KNN                 0.995385         0.989231  ...      0.876923   \n",
       "Naive Bayes         0.929231         0.989231  ...      0.678462   \n",
       "MLP                 0.996923         0.989231  ...      0.883077   \n",
       "Decision Tree       0.992308         0.986154  ...      0.795385   \n",
       "Bagging Classifier  0.992308         0.986154  ...      0.840000   \n",
       "Gradient Boost      0.992308         0.986154  ...      0.847692   \n",
       "Random Forest       0.995385         0.986154  ...      0.741538   \n",
       "AdaBoost            0.989231         0.986154  ...      0.829231   \n",
       "SVM                 0.995385         0.987692  ...      0.896923   \n",
       "\n",
       "                    PCA Words in >5 Speeches  PCA Complete Combined  \\\n",
       "KNN                                 0.858462               0.656923   \n",
       "Naive Bayes                         0.640000               0.638462   \n",
       "MLP                                 0.886154               0.721538   \n",
       "Decision Tree                       0.709231               0.638462   \n",
       "Bagging Classifier                  0.775385               0.709231   \n",
       "Gradient Boost                      0.766154               0.703077   \n",
       "Random Forest                       0.720000               0.706154   \n",
       "AdaBoost                            0.758462               0.692308   \n",
       "SVM                                 0.893846               0.727692   \n",
       "\n",
       "                    svd5 Full Words  svd5 No Stop Words  svd5 Stan Tags  \\\n",
       "KNN                        0.789231            0.740000        0.727692   \n",
       "Naive Bayes                0.773846            0.746154        0.761538   \n",
       "MLP                        0.663077            0.663077        0.672308   \n",
       "Decision Tree              0.780000            0.715385        0.704615   \n",
       "Bagging Classifier         0.807692            0.793846        0.729231   \n",
       "Gradient Boost             0.803077            0.775385        0.736923   \n",
       "Random Forest              0.800000            0.803077        0.744615   \n",
       "AdaBoost                   0.767692            0.756923        0.738462   \n",
       "SVM                        0.796923            0.786154        0.723077   \n",
       "\n",
       "                    svd5 Deception  svd5 Combined  svd5 Words in >5 Speeches  \\\n",
       "KNN                       0.773846       0.852308                   0.786154   \n",
       "Naive Bayes               0.796923       0.789231                   0.772308   \n",
       "MLP                       0.793846       0.850769                   0.663077   \n",
       "Decision Tree             0.744615       0.813846                   0.776923   \n",
       "Bagging Classifier        0.744615       0.846154                   0.804615   \n",
       "Gradient Boost            0.760000       0.841538                   0.809231   \n",
       "Random Forest             0.744615       0.849231                   0.792308   \n",
       "AdaBoost                  0.790769       0.824615                   0.769231   \n",
       "SVM                       0.793846       0.827692                   0.787692   \n",
       "\n",
       "                    svd5 Complete Combined  \n",
       "KNN                               0.696923  \n",
       "Naive Bayes                       0.669231  \n",
       "MLP                               0.707692  \n",
       "Decision Tree                     0.672308  \n",
       "Bagging Classifier                0.724615  \n",
       "Gradient Boost                    0.712308  \n",
       "Random Forest                     0.718462  \n",
       "AdaBoost                          0.710769  \n",
       "SVM                               0.696923  \n",
       "\n",
       "[9 rows x 30 columns]"
      ]
     },
     "execution_count": 31,
     "metadata": {},
     "output_type": "execute_result"
    }
   ],
   "source": [
    "totalAcc"
   ]
  },
  {
   "cell_type": "code",
   "execution_count": 42,
   "metadata": {},
   "outputs": [
    {
     "data": {
      "text/plain": [
       "(9, 30)"
      ]
     },
     "execution_count": 42,
     "metadata": {},
     "output_type": "execute_result"
    }
   ],
   "source": [
    "totalAcc.shape"
   ]
  },
  {
   "cell_type": "code",
   "execution_count": 32,
   "metadata": {},
   "outputs": [
    {
     "name": "stdout",
     "output_type": "stream",
     "text": [
      "0.9969230769230769 13\n",
      "0.9969230769230769 13\n",
      "0.9969230769230769 8\n",
      "0.9969230769230769 13\n",
      "0.9969230769230769 13\n",
      "0.9969230769230769 13\n",
      "0.9969230769230769 13\n",
      "0.9969230769230769 13\n",
      "0.9969230769230769 13\n"
     ]
    }
   ],
   "source": [
    "for row in totalAcc.T:\n",
    "    print(max(totalAcc.T[row]), np.argmax(totalAcc.T[row]))"
   ]
  },
  {
   "cell_type": "markdown",
   "metadata": {},
   "source": [
    "## Assessing Ensemble"
   ]
  },
  {
   "cell_type": "code",
   "execution_count": 41,
   "metadata": {},
   "outputs": [
    {
     "data": {
      "image/png": "[encoded data removed]",
      "text/plain": [
       "<Figure size 432x288 with 1 Axes>"
      ]
     },
     "metadata": {
      "needs_background": "light"
     },
     "output_type": "display_data"
    }
   ],
   "source": [
    "numEstimators = [100, 500, 1000, 2000, 3000, 4000]\n",
    "\n",
    "bagScores = []\n",
    "gradBoostScores = []\n",
    "rfScores = []\n",
    "adaScores = []\n",
    "    \n",
    "for num in numEstimators:\n",
    "    bagModel = BaggingClassifier(n_estimators=num)\n",
    "    gradModel = GradientBoostingClassifier(n_estimators=num)\n",
    "    rfModel = RandomForestClassifier(n_estimators=num)\n",
    "    adaModel = AdaBoostClassifier(n_estimators=num)\n",
    "    \n",
    "    scores = cross_val_score(bagModel, combinedHCDf, winLossVals, cv=cvf)\n",
    "    bagScores.append(np.mean(scores))\n",
    "    scores = cross_val_score(gradModel, combinedHCDf, winLossVals, cv=cvf)\n",
    "    gradBoostScores.append(np.mean(scores))\n",
    "    scores = cross_val_score(rfModel, combinedHCDf, winLossVals, cv=cvf)\n",
    "    rfScores.append(np.mean(scores))\n",
    "    scores = cross_val_score(adaModel, combinedHCDf, winLossVals, cv=cvf)\n",
    "    adaScores.append(np.mean(scores))\n",
    "    \n",
    "fig = plt.figure()\n",
    "ax = fig.add_subplot(111)\n",
    "ax.plot(numEstimators, bagScores, label = \"Bagging\")\n",
    "ax.plot(numEstimators, gradBoostScores, label = \"Gradient Boosting\")\n",
    "ax.plot(numEstimators, rfScores, label = \"Random Forest\")\n",
    "ax.plot(numEstimators, adaScores, label=\"AdaBoost\")\n",
    "\n",
    "plt.legend()\n",
    "\n",
    "ax.set_xlabel('Number of Estimators')\n",
    "ax.set_ylabel('Accuracy')\n",
    "\n",
    "plt.show()  "
   ]
  },
  {
   "cell_type": "code",
   "execution_count": null,
   "metadata": {},
   "outputs": [],
   "source": []
  },
  {
   "cell_type": "code",
   "execution_count": null,
   "metadata": {},
   "outputs": [],
   "source": [
    "# cvf2 = ShuffleSplit(n_splits=5, test_size=0.3, random_state=0)\n",
    "\n",
    "# model = AdaBoostClassifier(n_estimators=3000)\n",
    "# skores = sk.model_selection.cross_validate(model, combinedHCDf, winLossVals, cv=cvf2, scoring=['accuracy','f1','recall','precision'])\n",
    "# for key in skores:\n",
    "#     print(key,\": \",np.mean(skores[key]))"
   ]
  },
  {
   "cell_type": "code",
   "execution_count": null,
   "metadata": {},
   "outputs": [],
   "source": []
  }
 ],
 "metadata": {
  "kernelspec": {
   "display_name": "Python 3",
   "language": "python",
   "name": "python3"
  },
  "language_info": {
   "codemirror_mode": {
    "name": "ipython",
    "version": 3
   },
   "file_extension": ".py",
   "mimetype": "text/x-python",
   "name": "python",
   "nbconvert_exporter": "python",
   "pygments_lexer": "ipython3",
   "version": "3.7.7"
  }
 },
 "nbformat": 4,
 "nbformat_minor": 4
}
